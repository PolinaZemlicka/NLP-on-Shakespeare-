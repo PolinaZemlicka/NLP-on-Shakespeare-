{
 "cells": [
  {
   "cell_type": "markdown",
   "metadata": {},
   "source": [
    "A STUDY OF ROMEO AND JULIET IN ORIGINAL AND TRANSLATIONS\n",
    "ALL TEXTS TAKEN FROM https://www.gutenberg.org/"
   ]
  },
  {
   "cell_type": "code",
   "execution_count": 2,
   "metadata": {},
   "outputs": [],
   "source": [
    "from collections import Counter"
   ]
  },
  {
   "cell_type": "code",
   "execution_count": 3,
   "metadata": {},
   "outputs": [],
   "source": [
    "text = \"List's a simple: Test tring's BLA, BLA to test counting words.\""
   ]
  },
  {
   "cell_type": "code",
   "execution_count": 4,
   "metadata": {},
   "outputs": [],
   "source": [
    "def count_words(text):\n",
    "    '''\n",
    "    Count the number of times each word occurs in text(str).\n",
    "    Return dictionary: keys == unique words, values == word counts.\n",
    "    Skips punctuation.\n",
    "    '''\n",
    "    text = text.lower()\n",
    "    words = text.split(\" \")\n",
    "    words = [word.strip(\".,!:()[]\") for word in words] \n",
    "    words = [word.replace(\"'s\",\"\") for word in words]\n",
    "    word_counts = {}\n",
    "    word_counts = Counter(words)\n",
    "    return word_counts\n",
    "\n",
    "# Counter replaces a simple function as such:\n",
    "# for word in text.split(\" \"):\n",
    "#     if word in word_counts:\n",
    "#         word_counts[word] += 1\n",
    "#     else:\n",
    "#         word_counts[word] = 1 "
   ]
  },
  {
   "cell_type": "code",
   "execution_count": 5,
   "metadata": {},
   "outputs": [
    {
     "data": {
      "text/plain": [
       "Counter({'list': 1,\n",
       "         'a': 1,\n",
       "         'simple': 1,\n",
       "         'test': 2,\n",
       "         'tring': 1,\n",
       "         'bla': 2,\n",
       "         'to': 1,\n",
       "         'counting': 1,\n",
       "         'words': 1})"
      ]
     },
     "execution_count": 5,
     "metadata": {},
     "output_type": "execute_result"
    }
   ],
   "source": [
    "count_words(text)"
   ]
  },
  {
   "cell_type": "code",
   "execution_count": 6,
   "metadata": {},
   "outputs": [],
   "source": [
    "import os"
   ]
  },
  {
   "cell_type": "code",
   "execution_count": 7,
   "metadata": {},
   "outputs": [],
   "source": [
    "def read_book(title_path):\n",
    "    '''\n",
    "    Read book and return as a string without \\n \\r chars.\n",
    "    '''\n",
    "    with open(title_path, \"r\", encoding=\"utf8\") as current_file:\n",
    "        text = current_file.read()\n",
    "        text = text.replace(\"\\n\",\"\").replace(\"\\r\",\"\")\n",
    "    return text"
   ]
  },
  {
   "cell_type": "code",
   "execution_count": 8,
   "metadata": {},
   "outputs": [],
   "source": [
    "def read_book_russian(title_path):\n",
    "    '''\n",
    "    Read book and return as a string without \\n \\r chars.\n",
    "    '''\n",
    "    with open(title_path, encoding='windows-1251', mode='r') as current_file:\n",
    "        text = current_file.read()\n",
    "        text = text.replace(\"\\n\",\"\")\n",
    "    return text"
   ]
  },
  {
   "cell_type": "code",
   "execution_count": 9,
   "metadata": {},
   "outputs": [],
   "source": [
    "text = read_book(\"/Users/polina_zemlicka/Documents/BOOKS/R&J/ENGLISH.txt\")"
   ]
  },
  {
   "cell_type": "code",
   "execution_count": 10,
   "metadata": {},
   "outputs": [
    {
     "data": {
      "text/plain": [
       "136320"
      ]
     },
     "execution_count": 10,
     "metadata": {},
     "output_type": "execute_result"
    }
   ],
   "source": [
    "len(text)"
   ]
  },
  {
   "cell_type": "markdown",
   "metadata": {},
   "source": [
    "LET'S EXPLORE SOMEDETAILS ABOUT THE TEXT"
   ]
  },
  {
   "cell_type": "code",
   "execution_count": 11,
   "metadata": {},
   "outputs": [],
   "source": [
    "def word_stats(word_counts):\n",
    "    '''\n",
    "    Returns number of unique words and word frequencies.\n",
    "    '''\n",
    "    num_unique = len(word_counts)\n",
    "    counts =  word_counts.values()\n",
    "    return (num_unique, counts)"
   ]
  },
  {
   "cell_type": "code",
   "execution_count": null,
   "metadata": {},
   "outputs": [],
   "source": []
  },
  {
   "cell_type": "code",
   "execution_count": 12,
   "metadata": {},
   "outputs": [],
   "source": [
    "text = read_book(\"/Users/polina_zemlicka/Documents/BOOKS/R&J/ENGLISH.txt\")\n",
    "word_counts = count_words(text)\n",
    "(num_unique, counts) = word_stats(word_counts)"
   ]
  },
  {
   "cell_type": "code",
   "execution_count": 13,
   "metadata": {},
   "outputs": [
    {
     "data": {
      "text/plain": [
       "6491"
      ]
     },
     "execution_count": 13,
     "metadata": {},
     "output_type": "execute_result"
    }
   ],
   "source": [
    "# unique words \n",
    "num_unique"
   ]
  },
  {
   "cell_type": "code",
   "execution_count": 14,
   "metadata": {},
   "outputs": [
    {
     "data": {
      "text/plain": [
       "21928"
      ]
     },
     "execution_count": 14,
     "metadata": {},
     "output_type": "execute_result"
    }
   ],
   "source": [
    "# total words\n",
    "sum(counts)"
   ]
  },
  {
   "cell_type": "markdown",
   "metadata": {},
   "source": [
    "WOULD THE NUMBER OF WORDS AND TOTAL WORD COUNT BE DIFFERENT IN TRANSLATIONS?"
   ]
  },
  {
   "cell_type": "code",
   "execution_count": 15,
   "metadata": {},
   "outputs": [],
   "source": [
    "text = read_book(\"/Users/polina_zemlicka/Documents/BOOKS/R&J/GERMAN.txt\")\n",
    "word_counts = count_words(text)\n",
    "(num_unique, counts) = word_stats(word_counts)"
   ]
  },
  {
   "cell_type": "code",
   "execution_count": 16,
   "metadata": {},
   "outputs": [
    {
     "data": {
      "text/plain": [
       "6563"
      ]
     },
     "execution_count": 16,
     "metadata": {},
     "output_type": "execute_result"
    }
   ],
   "source": [
    "# unique words in German \n",
    "num_unique"
   ]
  },
  {
   "cell_type": "code",
   "execution_count": 17,
   "metadata": {},
   "outputs": [
    {
     "data": {
      "text/plain": [
       "17869"
      ]
     },
     "execution_count": 17,
     "metadata": {},
     "output_type": "execute_result"
    }
   ],
   "source": [
    "# total words in German \n",
    "sum(counts)"
   ]
  },
  {
   "cell_type": "code",
   "execution_count": 18,
   "metadata": {},
   "outputs": [],
   "source": [
    "text = read_book(\"/Users/polina_zemlicka/Documents/BOOKS/R&J/FRENCH.txt\")\n",
    "word_counts = count_words(text)\n",
    "(num_unique, counts) = word_stats(word_counts)"
   ]
  },
  {
   "cell_type": "code",
   "execution_count": 19,
   "metadata": {},
   "outputs": [
    {
     "data": {
      "text/plain": [
       "8653"
      ]
     },
     "execution_count": 19,
     "metadata": {},
     "output_type": "execute_result"
    }
   ],
   "source": [
    "# unique words in French  \n",
    "num_unique"
   ]
  },
  {
   "cell_type": "code",
   "execution_count": 20,
   "metadata": {},
   "outputs": [
    {
     "data": {
      "text/plain": [
       "28404"
      ]
     },
     "execution_count": 20,
     "metadata": {},
     "output_type": "execute_result"
    }
   ],
   "source": [
    "# total words in French \n",
    "sum(counts)"
   ]
  },
  {
   "cell_type": "markdown",
   "metadata": {},
   "source": [
    "WOW!\n",
    "THIS IS GETTING INTERESTING \n",
    "LET'S NOW LOOP OVER SEVERAL TRANSLATIONS, \n",
    "STORE DATA AND VISUALIZE IT IN A GRAPH.\n",
    "\n",
    "Make sure if you are taking just the texts - no foreword, etc"
   ]
  },
  {
   "cell_type": "code",
   "execution_count": 21,
   "metadata": {},
   "outputs": [],
   "source": [
    "# languages = ['ENGLISH', 'GERMAN', 'FRENCH', 'POLISH']"
   ]
  },
  {
   "cell_type": "code",
   "execution_count": 22,
   "metadata": {},
   "outputs": [],
   "source": [
    "# ENGLISH\n",
    "\n",
    "text = read_book(\"/Users/polina_zemlicka/Documents/BOOKS//R&J/ENGLISH.txt\")\n",
    "word_counts = count_words(text)\n",
    "(num_unique, counts) = word_stats(word_counts)"
   ]
  },
  {
   "cell_type": "code",
   "execution_count": 23,
   "metadata": {},
   "outputs": [
    {
     "data": {
      "text/plain": [
       "6491"
      ]
     },
     "execution_count": 23,
     "metadata": {},
     "output_type": "execute_result"
    }
   ],
   "source": [
    "num_unique"
   ]
  },
  {
   "cell_type": "code",
   "execution_count": 24,
   "metadata": {},
   "outputs": [
    {
     "data": {
      "text/plain": [
       "21928"
      ]
     },
     "execution_count": 24,
     "metadata": {},
     "output_type": "execute_result"
    }
   ],
   "source": [
    "sum(counts)"
   ]
  },
  {
   "cell_type": "code",
   "execution_count": 25,
   "metadata": {},
   "outputs": [],
   "source": [
    "#text"
   ]
  },
  {
   "cell_type": "markdown",
   "metadata": {},
   "source": [
    "NOW LETS LOOP OVER LANGUAGES, PREFORMING CLEAN UP AS WE GO.\n",
    "THEN STORE RESULTS INTO A PANDAS TABLE"
   ]
  },
  {
   "cell_type": "code",
   "execution_count": 26,
   "metadata": {},
   "outputs": [],
   "source": [
    "import pandas as pd"
   ]
  },
  {
   "cell_type": "code",
   "execution_count": 27,
   "metadata": {},
   "outputs": [],
   "source": [
    "book_dir = \"/Users/polina_zemlicka/Documents/BOOKS/R&J\"\n",
    "# book_dir\n",
    "# if you keep getting a '.DS_Store' file in bok_dir and cannpt remove it, use:\n",
    "# find . -name \"*.DS_Store\" -type f -delete\n",
    "# in Terminal"
   ]
  },
  {
   "cell_type": "code",
   "execution_count": 28,
   "metadata": {},
   "outputs": [
    {
     "data": {
      "text/plain": [
       "['GERMAN.txt', 'RUSSIAN.txt', 'FRENCH.txt', 'ENGLISH.txt', 'POLISH.txt']"
      ]
     },
     "execution_count": 28,
     "metadata": {},
     "output_type": "execute_result"
    }
   ],
   "source": [
    "os.listdir(book_dir)"
   ]
  },
  {
   "cell_type": "code",
   "execution_count": 29,
   "metadata": {},
   "outputs": [],
   "source": [
    "stats = pd.DataFrame(columns = (\"language\",\"length\",\"unique words\"))\n",
    "title_num = 1\n",
    "\n",
    "for file in os.listdir(book_dir):\n",
    "    \n",
    "    input_file = book_dir + \"/\" + file\n",
    "    if file == 'RUSSIAN.txt':\n",
    "        text = read_book_russian(input_file)\n",
    "    else:\n",
    "        text = read_book(input_file)\n",
    "  \n",
    "    (num_unique, counts) = word_stats(count_words(text))\n",
    "    stats.loc[title_num] = file.replace(\".txt\",\"\"), sum(counts), num_unique\n",
    "    title_num += 1   "
   ]
  },
  {
   "cell_type": "code",
   "execution_count": 30,
   "metadata": {},
   "outputs": [
    {
     "data": {
      "text/html": [
       "<div>\n",
       "<style scoped>\n",
       "    .dataframe tbody tr th:only-of-type {\n",
       "        vertical-align: middle;\n",
       "    }\n",
       "\n",
       "    .dataframe tbody tr th {\n",
       "        vertical-align: top;\n",
       "    }\n",
       "\n",
       "    .dataframe thead th {\n",
       "        text-align: right;\n",
       "    }\n",
       "</style>\n",
       "<table border=\"1\" class=\"dataframe\">\n",
       "  <thead>\n",
       "    <tr style=\"text-align: right;\">\n",
       "      <th></th>\n",
       "      <th>language</th>\n",
       "      <th>length</th>\n",
       "      <th>unique words</th>\n",
       "    </tr>\n",
       "  </thead>\n",
       "  <tbody>\n",
       "    <tr>\n",
       "      <th>1</th>\n",
       "      <td>GERMAN</td>\n",
       "      <td>17869</td>\n",
       "      <td>6563</td>\n",
       "    </tr>\n",
       "    <tr>\n",
       "      <th>2</th>\n",
       "      <td>RUSSIAN</td>\n",
       "      <td>16678</td>\n",
       "      <td>7684</td>\n",
       "    </tr>\n",
       "    <tr>\n",
       "      <th>3</th>\n",
       "      <td>FRENCH</td>\n",
       "      <td>28404</td>\n",
       "      <td>8653</td>\n",
       "    </tr>\n",
       "    <tr>\n",
       "      <th>4</th>\n",
       "      <td>ENGLISH</td>\n",
       "      <td>21928</td>\n",
       "      <td>6491</td>\n",
       "    </tr>\n",
       "    <tr>\n",
       "      <th>5</th>\n",
       "      <td>POLISH</td>\n",
       "      <td>20469</td>\n",
       "      <td>8320</td>\n",
       "    </tr>\n",
       "  </tbody>\n",
       "</table>\n",
       "</div>"
      ],
      "text/plain": [
       "  language length unique words\n",
       "1   GERMAN  17869         6563\n",
       "2  RUSSIAN  16678         7684\n",
       "3   FRENCH  28404         8653\n",
       "4  ENGLISH  21928         6491\n",
       "5   POLISH  20469         8320"
      ]
     },
     "execution_count": 30,
     "metadata": {},
     "output_type": "execute_result"
    }
   ],
   "source": [
    "stats"
   ]
  },
  {
   "cell_type": "markdown",
   "metadata": {},
   "source": [
    "LET'S VISUALIZE\n"
   ]
  },
  {
   "cell_type": "code",
   "execution_count": 31,
   "metadata": {},
   "outputs": [],
   "source": [
    "import matplotlib.pyplot as plt\n",
    "%matplotlib inline\n",
    "%config InlineBackend.figure_format = 'retina'"
   ]
  },
  {
   "cell_type": "code",
   "execution_count": 32,
   "metadata": {},
   "outputs": [
    {
     "data": {
      "text/plain": [
       "Text(0.5, 1.0, 'Romeo and Juliet')"
      ]
     },
     "execution_count": 32,
     "metadata": {},
     "output_type": "execute_result"
    },
    {
     "data": {
      "image/png": "[encoded data removed]",
      "text/plain": [
       "<Figure size 432x288 with 1 Axes>"
      ]
     },
     "metadata": {
      "image/png": {
       "height": 277,
       "width": 401
      },
      "needs_background": "light"
     },
     "output_type": "display_data"
    }
   ],
   "source": [
    "ax = stats.plot.bar(x='language',rot=0)\n",
    "plt.xlabel('language', fontsize=10)\n",
    "plt.ylabel('words', fontsize=10)\n",
    "plt.title('Romeo and Juliet')"
   ]
  },
  {
   "cell_type": "code",
   "execution_count": null,
   "metadata": {},
   "outputs": [],
   "source": []
  },
  {
   "cell_type": "markdown",
   "metadata": {},
   "source": [
    "LET'S LOOK AT CHARACTERS AND HOW MANY LINES THEY HAVE IN THE ENGLISH ORIGINAL.\n",
    " "
   ]
  },
  {
   "cell_type": "code",
   "execution_count": 33,
   "metadata": {},
   "outputs": [],
   "source": [
    "text = read_book(\"/Users/polina_zemlicka/Documents/BOOKS//R&J/ENGLISH.txt\")"
   ]
  },
  {
   "cell_type": "code",
   "execution_count": 34,
   "metadata": {},
   "outputs": [],
   "source": [
    "import re"
   ]
  },
  {
   "cell_type": "code",
   "execution_count": 66,
   "metadata": {},
   "outputs": [],
   "source": [
    "def eng_characters(text):\n",
    "    '''\n",
    "    def takes text of the play and return all character with a number \n",
    "    of times they speak\n",
    "    '''\n",
    "    characters = {}\n",
    "    ind = text.find(\"ESCALUS\")\n",
    "    results =  re.findall(r\"([A-Z]+\\s?[A-Z]+[^a-z0-9\\W])\",text[ind:].replace(\"CAPULET’S COUSIN\", \"CAPULET COUSIN\"))\n",
    "    for entry in results:\n",
    "        if \"SCENE\" not in entry:\n",
    "            if \"ACT\" not in entry:\n",
    "                if entry in characters:\n",
    "                    characters[entry] += 1\n",
    "                else:\n",
    "                    characters[entry] = 1\n",
    "    return (characters)"
   ]
  },
  {
   "cell_type": "code",
   "execution_count": 68,
   "metadata": {},
   "outputs": [],
   "source": [
    "rj_chars = eng_characters(text)"
   ]
  },
  {
   "cell_type": "code",
   "execution_count": 74,
   "metadata": {},
   "outputs": [
    {
     "data": {
      "text/plain": [
       "[('ROMEO', 164),\n",
       " ('JULIET', 119),\n",
       " ('NURSE', 91),\n",
       " ('BENVOLIO', 64),\n",
       " ('MERCUTIO', 63),\n",
       " ('FRIAR LAWRENCE', 56),\n",
       " ('CAPULET', 51),\n",
       " ('LADY CAPULET', 46),\n",
       " ('PARIS', 24),\n",
       " ('SAMPSON', 21),\n",
       " ('TYBALT', 18),\n",
       " ('GREGORY', 16),\n",
       " ('PRINCE', 16),\n",
       " ('PETER', 14),\n",
       " ('BALTHASAR', 13),\n",
       " ('MONTAGUE', 11),\n",
       " ('SERVANT', 10),\n",
       " ('FIRST MUSICIAN', 10),\n",
       " ('ABRAM', 6),\n",
       " ('SECOND SERVANT', 6),\n",
       " ('FIRST WATCH', 6),\n",
       " ('FRIAR JOHN', 5),\n",
       " ('FIRST SERVANT', 4),\n",
       " ('APOTHECARY', 4),\n",
       " ('PAGE', 4),\n",
       " ('LADY MONTAGUE', 3),\n",
       " ('CAPULET COUSIN', 3),\n",
       " ('CHORUS', 3),\n",
       " ('FIRST CITIZEN', 3),\n",
       " ('SECOND MUSICIAN', 3),\n",
       " ('ESCALUS', 1),\n",
       " ('THE PROLOGUE', 1),\n",
       " ('THIRD MUSICIAN', 1),\n",
       " ('SECOND WATCH', 1),\n",
       " ('THIRD WATCH', 1)]"
      ]
     },
     "execution_count": 74,
     "metadata": {},
     "output_type": "execute_result"
    }
   ],
   "source": [
    "sorted(rj_chars.items(), key=lambda x:x[1],reverse = True)"
   ]
  },
  {
   "cell_type": "markdown",
   "metadata": {},
   "source": [
    "HMMM ROMEO STFU! "
   ]
  },
  {
   "cell_type": "code",
   "execution_count": null,
   "metadata": {},
   "outputs": [],
   "source": []
  }
 ],
 "metadata": {
  "kernelspec": {
   "display_name": "Python 3",
   "language": "python",
   "name": "python3"
  },
  "language_info": {
   "codemirror_mode": {
    "name": "ipython",
    "version": 3
   },
   "file_extension": ".py",
   "mimetype": "text/x-python",
   "name": "python",
   "nbconvert_exporter": "python",
   "pygments_lexer": "ipython3",
   "version": "3.8.5"
  }
 },
 "nbformat": 4,
 "nbformat_minor": 4
}
